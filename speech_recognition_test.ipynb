{
 "cells": [
  {
   "cell_type": "code",
   "execution_count": null,
   "id": "340c7a31",
   "metadata": {},
   "outputs": [],
   "source": [
    "### Importing the library\n",
    "import os\n",
    "os.chdir(\"D:\\\\DataScienceLU\\\\statsexcercise\\\\speech\")\n",
    "os.getcwd()"
   ]
  },
  {
   "cell_type": "code",
   "execution_count": 11,
   "id": "a0affed2",
   "metadata": {},
   "outputs": [],
   "source": [
    "import numpy as np\n",
    "import pandas as pd\n",
    "import matplotlib.pyplot as plt\n",
    "import seaborn as sns\n",
    "%matplotlib inline"
   ]
  },
  {
   "cell_type": "code",
   "execution_count": null,
   "id": "bb61d2a1",
   "metadata": {},
   "outputs": [],
   "source": [
    "example = input('Enter Text-to-speech:\\n >')\n"
   ]
  },
  {
   "cell_type": "code",
   "execution_count": 13,
   "id": "3c56b313",
   "metadata": {},
   "outputs": [
    {
     "name": "stdout",
     "output_type": "stream",
     "text": [
      "Collecting gTTs\n",
      "  Downloading gTTS-2.2.3-py3-none-any.whl (25 kB)\n",
      "Requirement already satisfied: six in c:\\users\\sakshi\\anaconda3\\lib\\site-packages (from gTTs) (1.15.0)\n",
      "Requirement already satisfied: click in c:\\users\\sakshi\\anaconda3\\lib\\site-packages (from gTTs) (7.1.2)\n",
      "Requirement already satisfied: requests in c:\\users\\sakshi\\anaconda3\\lib\\site-packages (from gTTs) (2.11.1)\n",
      "Installing collected packages: gTTs\n",
      "Successfully installed gTTs-2.2.3\n"
     ]
    }
   ],
   "source": [
    "!pip install gTTs"
   ]
  },
  {
   "cell_type": "code",
   "execution_count": 14,
   "id": "9bc36989",
   "metadata": {},
   "outputs": [],
   "source": [
    "from gtts import gTTS"
   ]
  },
  {
   "cell_type": "code",
   "execution_count": null,
   "id": "ad80dfcc",
   "metadata": {},
   "outputs": [],
   "source": [
    "english = gTTS(text=example, lang= 'kn', slow=False)"
   ]
  },
  {
   "cell_type": "code",
   "execution_count": null,
   "id": "c0b0c46a",
   "metadata": {},
   "outputs": [],
   "source": [
    "english.save('eksnnada.mp3')"
   ]
  },
  {
   "cell_type": "code",
   "execution_count": 17,
   "id": "bb29adf9",
   "metadata": {},
   "outputs": [],
   "source": [
    "english = gTTS(text=example, lang= 'kn', slow=False)"
   ]
  },
  {
   "cell_type": "code",
   "execution_count": 18,
   "id": "bb925308",
   "metadata": {},
   "outputs": [
    {
     "name": "stderr",
     "output_type": "stream",
     "text": [
      "C:\\Users\\Sakshi\\anaconda3\\lib\\site-packages\\requests\\packages\\urllib3\\connectionpool.py:834: InsecureRequestWarning: Unverified HTTPS request is being made. Adding certificate verification is strongly advised. See: https://urllib3.readthedocs.io/en/latest/security.html\n",
      "  warnings.warn((\n",
      "C:\\Users\\Sakshi\\anaconda3\\lib\\site-packages\\requests\\packages\\urllib3\\connectionpool.py:834: InsecureRequestWarning: Unverified HTTPS request is being made. Adding certificate verification is strongly advised. See: https://urllib3.readthedocs.io/en/latest/security.html\n",
      "  warnings.warn((\n",
      "C:\\Users\\Sakshi\\anaconda3\\lib\\site-packages\\requests\\packages\\urllib3\\connectionpool.py:834: InsecureRequestWarning: Unverified HTTPS request is being made. Adding certificate verification is strongly advised. See: https://urllib3.readthedocs.io/en/latest/security.html\n",
      "  warnings.warn((\n",
      "C:\\Users\\Sakshi\\anaconda3\\lib\\site-packages\\requests\\packages\\urllib3\\connectionpool.py:834: InsecureRequestWarning: Unverified HTTPS request is being made. Adding certificate verification is strongly advised. See: https://urllib3.readthedocs.io/en/latest/security.html\n",
      "  warnings.warn((\n",
      "C:\\Users\\Sakshi\\anaconda3\\lib\\site-packages\\requests\\packages\\urllib3\\connectionpool.py:834: InsecureRequestWarning: Unverified HTTPS request is being made. Adding certificate verification is strongly advised. See: https://urllib3.readthedocs.io/en/latest/security.html\n",
      "  warnings.warn((\n"
     ]
    }
   ],
   "source": [
    "english.save('tamil.mp3')"
   ]
  },
  {
   "cell_type": "code",
   "execution_count": null,
   "id": "ffc55366",
   "metadata": {},
   "outputs": [],
   "source": []
  }
 ],
 "metadata": {
  "kernelspec": {
   "display_name": "Python 3",
   "language": "python",
   "name": "python3"
  },
  "language_info": {
   "codemirror_mode": {
    "name": "ipython",
    "version": 3
   },
   "file_extension": ".py",
   "mimetype": "text/x-python",
   "name": "python",
   "nbconvert_exporter": "python",
   "pygments_lexer": "ipython3",
   "version": "3.8.8"
  }
 },
 "nbformat": 4,
 "nbformat_minor": 5
}
